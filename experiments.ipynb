{
 "cells": [
  {
   "cell_type": "code",
   "execution_count": 1,
   "metadata": {},
   "outputs": [],
   "source": [
    "import numpy as np \n",
    "import matplotlib.pyplot as plt \n",
    "import seaborn as sns \n",
    "import experimenter\n",
    "import pandas as pd \n",
    "import matplotlib.pyplot as plt \n",
    "\n",
    "sns.set_theme()"
   ]
  },
  {
   "cell_type": "code",
   "execution_count": 15,
   "metadata": {},
   "outputs": [
    {
     "data": {
      "text/html": [
       "<div>\n",
       "<style scoped>\n",
       "    .dataframe tbody tr th:only-of-type {\n",
       "        vertical-align: middle;\n",
       "    }\n",
       "\n",
       "    .dataframe tbody tr th {\n",
       "        vertical-align: top;\n",
       "    }\n",
       "\n",
       "    .dataframe thead th {\n",
       "        text-align: right;\n",
       "    }\n",
       "</style>\n",
       "<table border=\"1\" class=\"dataframe\">\n",
       "  <thead>\n",
       "    <tr style=\"text-align: right;\">\n",
       "      <th></th>\n",
       "      <th>before_create_timestamp</th>\n",
       "      <th>before_firstwait_timestamp</th>\n",
       "      <th>before_delete_timestamp</th>\n",
       "      <th>before_secondwait_timestamp</th>\n",
       "      <th>before_cooldown_timestamp</th>\n",
       "      <th>before_join_timestamp</th>\n",
       "      <th>replicas</th>\n",
       "      <th>framework</th>\n",
       "      <th>error_occured</th>\n",
       "      <th>errors_rised</th>\n",
       "      <th>...</th>\n",
       "      <th>event_replicas_at</th>\n",
       "      <th>first_created_at</th>\n",
       "      <th>last_created_at</th>\n",
       "      <th>first_deleted_at</th>\n",
       "      <th>last_deleted_at</th>\n",
       "      <th>first_scheduled_at</th>\n",
       "      <th>last_scheduled_at</th>\n",
       "      <th>api_server_creation_delta</th>\n",
       "      <th>api_server_deletion_delta</th>\n",
       "      <th>api_scheduler_creation_delta</th>\n",
       "    </tr>\n",
       "  </thead>\n",
       "  <tbody>\n",
       "    <tr>\n",
       "      <th>0</th>\n",
       "      <td>2023-03-10 05:52:25.327957</td>\n",
       "      <td>2023-03-10 05:52:25.384790</td>\n",
       "      <td>2023-03-10 05:52:32.952828</td>\n",
       "      <td>2023-03-10 05:52:33.107007</td>\n",
       "      <td>2023-03-10 05:52:33.107024</td>\n",
       "      <td>2023-03-10 05:52:34.108166</td>\n",
       "      <td>1</td>\n",
       "      <td>native</td>\n",
       "      <td>False</td>\n",
       "      <td>[None, None, None]</td>\n",
       "      <td>...</td>\n",
       "      <td>[nan, nan, nan, 1.0]</td>\n",
       "      <td>2023-03-10 05:52:25.536836</td>\n",
       "      <td>2023-03-10 05:52:25.536836</td>\n",
       "      <td>2023-03-10 05:53:06.988314</td>\n",
       "      <td>2023-03-10 05:53:06.988314</td>\n",
       "      <td>2023-03-10 05:52:25.601582</td>\n",
       "      <td>2023-03-10 05:52:25.601582</td>\n",
       "      <td>0 days 00:00:00.052260</td>\n",
       "      <td>0 days 00:00:00.158197</td>\n",
       "      <td>0 days 00:00:00.064746</td>\n",
       "    </tr>\n",
       "  </tbody>\n",
       "</table>\n",
       "<p>1 rows × 28 columns</p>\n",
       "</div>"
      ],
      "text/plain": [
       "     before_create_timestamp before_firstwait_timestamp  \\\n",
       "0 2023-03-10 05:52:25.327957 2023-03-10 05:52:25.384790   \n",
       "\n",
       "     before_delete_timestamp before_secondwait_timestamp  \\\n",
       "0 2023-03-10 05:52:32.952828  2023-03-10 05:52:33.107007   \n",
       "\n",
       "   before_cooldown_timestamp      before_join_timestamp  replicas framework  \\\n",
       "0 2023-03-10 05:52:33.107024 2023-03-10 05:52:34.108166         1    native   \n",
       "\n",
       "   error_occured        errors_rised  ...     event_replicas_at  \\\n",
       "0          False  [None, None, None]  ...  [nan, nan, nan, 1.0]   \n",
       "\n",
       "            first_created_at            last_created_at  \\\n",
       "0 2023-03-10 05:52:25.536836 2023-03-10 05:52:25.536836   \n",
       "\n",
       "            first_deleted_at            last_deleted_at  \\\n",
       "0 2023-03-10 05:53:06.988314 2023-03-10 05:53:06.988314   \n",
       "\n",
       "          first_scheduled_at          last_scheduled_at  \\\n",
       "0 2023-03-10 05:52:25.601582 2023-03-10 05:52:25.601582   \n",
       "\n",
       "  api_server_creation_delta api_server_deletion_delta  \\\n",
       "0    0 days 00:00:00.052260    0 days 00:00:00.158197   \n",
       "\n",
       "  api_scheduler_creation_delta  \n",
       "0       0 days 00:00:00.064746  \n",
       "\n",
       "[1 rows x 28 columns]"
      ]
     },
     "execution_count": 15,
     "metadata": {},
     "output_type": "execute_result"
    }
   ],
   "source": [
    "KNATIVE_EXPERIMENT_NAME = \"exps/20230310_055224.feather\"\n",
    "\n",
    "def process_experiment(filename):\n",
    "    data_df = pd.read_feather(filename)\n",
    "\n",
    "    data_df[\"api_server_creation_delta\"] = data_df[\"event_created_at\"] - data_df[\"before_create_timestamp\"]\n",
    "    data_df[\"api_server_deletion_delta\"] = data_df[\"event_deleted_at\"] - data_df[\"before_delete_timestamp\"]\n",
    "\n",
    "    data_df[\"api_scheduler_creation_delta\"] = data_df[\"last_scheduled_at\"] - data_df[\"first_created_at\"]\n",
    "\n",
    "    # ADD OTHER TIME DELTA CALCULATIONS HERE\n",
    "    \n",
    "    data_df.to_feather(filename)\n",
    "    return data_df\n",
    "\n",
    "knative_minikube_df = process_experiment(KNATIVE_EXPERIMENT_NAME)\n",
    "# knative_minikube_df.columns\n",
    "knative_minikube_df"
   ]
  },
  {
   "cell_type": "code",
   "execution_count": 17,
   "metadata": {},
   "outputs": [
    {
     "data": {
      "text/plain": [
       "0   0 days 00:00:00.064746\n",
       "Name: api_scheduler_creation_delta, dtype: timedelta64[ns]"
      ]
     },
     "execution_count": 17,
     "metadata": {},
     "output_type": "execute_result"
    }
   ],
   "source": [
    "knative_minikube_df.api_scheduler_creation_delta"
   ]
  },
  {
   "cell_type": "code",
   "execution_count": null,
   "metadata": {},
   "outputs": [],
   "source": [
    "# # BETTER PROCESS THIS DATA\n",
    "# plt.figure(figsize=(20, 4))\n",
    "# plt.subplot(1, 2, 1)\n",
    "# plt.plot(knative_minikube_df[\"api_server_deletion_delta\"]); plt.title(\"Creation Times\")\n",
    "# plt.subplot(1, 2, 2)\n",
    "# plt.plot(knative_minikube_df[\"api_server_creation_delta\"]); plt.title(\"Deletion Times\")\n",
    "# plt.show()"
   ]
  },
  {
   "cell_type": "code",
   "execution_count": null,
   "metadata": {},
   "outputs": [],
   "source": [
    "# def draw_replicas(replicas=REPLICAS):\n",
    "#     plt.figure(figsize=(8, 4))\n",
    "#     plt.plot(range(len(replicas)), replicas)\n",
    "#     plt.title(\"Replica Count by Experiments\")\n",
    "#     plt.xlabel(\"Experiment\")\n",
    "#     plt.ylabel(\"Replicas\")\n",
    "#     plt.show()\n",
    "\n",
    "# draw_replicas()\n",
    "# print(COOLDOWNS)\n",
    "# print(REPLICAS)"
   ]
  },
  {
   "cell_type": "code",
   "execution_count": null,
   "metadata": {},
   "outputs": [],
   "source": []
  }
 ],
 "metadata": {
  "kernelspec": {
   "display_name": "Python 3",
   "language": "python",
   "name": "python3"
  },
  "language_info": {
   "codemirror_mode": {
    "name": "ipython",
    "version": 3
   },
   "file_extension": ".py",
   "mimetype": "text/x-python",
   "name": "python",
   "nbconvert_exporter": "python",
   "pygments_lexer": "ipython3",
   "version": "3.10.10"
  },
  "orig_nbformat": 4,
  "vscode": {
   "interpreter": {
    "hash": "e7370f93d1d0cde622a1f8e1c04877d8463912d04d973331ad4851f04de6915a"
   }
  }
 },
 "nbformat": 4,
 "nbformat_minor": 2
}
