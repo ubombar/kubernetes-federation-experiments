{
 "cells": [
  {
   "cell_type": "code",
   "execution_count": 1,
   "metadata": {},
   "outputs": [],
   "source": [
    "import numpy as np \n",
    "import matplotlib.pyplot as plt \n",
    "import seaborn as sns \n",
    "from number_of_experimetns import calculate_number_of_replicas\n",
    "from experimenter_knative import experiment_with\n",
    "import pandas as pd \n",
    "sns.set_theme()"
   ]
  },
  {
   "cell_type": "code",
   "execution_count": 7,
   "metadata": {},
   "outputs": [],
   "source": [
    "# Maximum number of replicas that the system can manage.\n",
    "MAX_REPLICA_COUNT = 100\n",
    "\n",
    "# Number of experiments\n",
    "NUMBER_OF_EXPERIMENTS = 5\n",
    "\n",
    "# Each experiment will be done by this many times for consistency.\n",
    "EXPERIMENT_PROOF = 5\n",
    "\n",
    "# Int array of replicas for each experiment\n",
    "REPLICAS: np.ndarray = calculate_number_of_replicas(MAX_REPLICA_COUNT, NUMBER_OF_EXPERIMENTS)\n",
    "\n",
    "# How much should we wait for the kubernetes api to be stabilized\n",
    "COOLDOWNS: np.ndarray = 2 * np.ones((NUMBER_OF_EXPERIMENTS,), dtype=int) + (REPLICAS * 0.004).astype(int)\n",
    "\n",
    "# Namespace of the experimentation\n",
    "NAMESPACE = \"experiments\"\n",
    "\n",
    "# Driver used in kubectl\n",
    "DRIVER = \"minikube\""
   ]
  },
  {
   "cell_type": "code",
   "execution_count": 8,
   "metadata": {},
   "outputs": [
    {
     "data": {
      "image/png": "[encoded data removed]",
      "text/plain": [
       "<Figure size 800x400 with 1 Axes>"
      ]
     },
     "metadata": {},
     "output_type": "display_data"
    },
    {
     "name": "stdout",
     "output_type": "stream",
     "text": [
      "[2 2]\n",
      "[  1 100]\n"
     ]
    }
   ],
   "source": [
    "def draw_replicas(replicas=REPLICAS):\n",
    "    plt.figure(figsize=(8, 4))\n",
    "    plt.plot(range(len(replicas)), replicas)\n",
    "    plt.title(\"Replica Count by Experiments\")\n",
    "    plt.xlabel(\"Experiment\")\n",
    "    plt.ylabel(\"Replicas\")\n",
    "    plt.show()\n",
    "\n",
    "draw_replicas()\n",
    "print(COOLDOWNS)\n",
    "print(REPLICAS)"
   ]
  },
  {
   "cell_type": "code",
   "execution_count": 9,
   "metadata": {},
   "outputs": [
    {
     "name": "stdout",
     "output_type": "stream",
     "text": [
      "Estimated time 14 second(s) in ./exps/20230223_224500.feather.\n",
      "Experiment of 1 step(s) with 1 replica(s) in 'knative' and 'busybox' image in namespace 'experiments'. Estimated time for the experiment: 3 second(s)\n",
      "Experiment of 1 step(s) with 100 replica(s) in 'knative' and 'busybox' image in namespace 'experiments'. Estimated time for the experiment: 102 second(s)\n"
     ]
    }
   ],
   "source": [
    "# Do the experiment\n",
    "experiment_with(REPLICAS.tolist(), NAMESPACE, COOLDOWNS.tolist(), EXPERIMENT_PROOF, DRIVER)"
   ]
  },
  {
   "cell_type": "code",
   "execution_count": 24,
   "metadata": {},
   "outputs": [
    {
     "data": {
      "text/html": [
       "<div>\n",
       "<style scoped>\n",
       "    .dataframe tbody tr th:only-of-type {\n",
       "        vertical-align: middle;\n",
       "    }\n",
       "\n",
       "    .dataframe tbody tr th {\n",
       "        vertical-align: top;\n",
       "    }\n",
       "\n",
       "    .dataframe thead th {\n",
       "        text-align: right;\n",
       "    }\n",
       "</style>\n",
       "<table border=\"1\" class=\"dataframe\">\n",
       "  <thead>\n",
       "    <tr style=\"text-align: right;\">\n",
       "      <th></th>\n",
       "      <th>test</th>\n",
       "      <th>experiment_start_date</th>\n",
       "      <th>experiment_finsh_date</th>\n",
       "      <th>experiment_deployment_becoma_ready_date</th>\n",
       "      <th>experiment_deployment_creation_started_date</th>\n",
       "      <th>experiment_deployment_creation_finished_date</th>\n",
       "      <th>experiment_deployment_deletion_started_date</th>\n",
       "      <th>experiment_deployment_deletion_finished_date</th>\n",
       "      <th>replicas</th>\n",
       "      <th>framework</th>\n",
       "      <th>error_occured</th>\n",
       "      <th>exception</th>\n",
       "      <th>step</th>\n",
       "      <th>total_steps</th>\n",
       "      <th>cool_period</th>\n",
       "      <th>driver</th>\n",
       "      <th>command</th>\n",
       "      <th>creation_timedelta</th>\n",
       "      <th>deletion_timedelta</th>\n",
       "    </tr>\n",
       "  </thead>\n",
       "  <tbody>\n",
       "    <tr>\n",
       "      <th>0</th>\n",
       "      <td>NaN</td>\n",
       "      <td>2023-02-23 22:45:00.708365</td>\n",
       "      <td>2023-02-23 22:45:05.767746</td>\n",
       "      <td>2023-02-23 22:45:03.767663</td>\n",
       "      <td>2023-02-23 22:45:00.708365</td>\n",
       "      <td>2023-02-23 22:45:00.723892</td>\n",
       "      <td>2023-02-23 22:45:05.767740</td>\n",
       "      <td>2023-02-23 22:45:05.767746</td>\n",
       "      <td>1.0</td>\n",
       "      <td>knative</td>\n",
       "      <td>False</td>\n",
       "      <td>[None, None, None]</td>\n",
       "      <td>0.0</td>\n",
       "      <td>1.0</td>\n",
       "      <td>2.0</td>\n",
       "      <td>minikube</td>\n",
       "      <td>[/bin/sh, -c, sleep 9999]</td>\n",
       "      <td>0 days 00:00:00.015527</td>\n",
       "      <td>0 days 00:00:00.000006</td>\n",
       "    </tr>\n",
       "    <tr>\n",
       "      <th>1</th>\n",
       "      <td>NaN</td>\n",
       "      <td>2023-02-23 22:45:05.792333</td>\n",
       "      <td>2023-02-23 22:47:46.238550</td>\n",
       "      <td>2023-02-23 22:47:44.238467</td>\n",
       "      <td>2023-02-23 22:45:05.792333</td>\n",
       "      <td>2023-02-23 22:45:05.805748</td>\n",
       "      <td>2023-02-23 22:47:46.238545</td>\n",
       "      <td>2023-02-23 22:47:46.238550</td>\n",
       "      <td>100.0</td>\n",
       "      <td>knative</td>\n",
       "      <td>False</td>\n",
       "      <td>[None, None, None]</td>\n",
       "      <td>0.0</td>\n",
       "      <td>1.0</td>\n",
       "      <td>2.0</td>\n",
       "      <td>minikube</td>\n",
       "      <td>[/bin/sh, -c, sleep 9999]</td>\n",
       "      <td>0 days 00:00:00.013415</td>\n",
       "      <td>0 days 00:00:00.000005</td>\n",
       "    </tr>\n",
       "  </tbody>\n",
       "</table>\n",
       "</div>"
      ],
      "text/plain": [
       "   test      experiment_start_date      experiment_finsh_date  \\\n",
       "0   NaN 2023-02-23 22:45:00.708365 2023-02-23 22:45:05.767746   \n",
       "1   NaN 2023-02-23 22:45:05.792333 2023-02-23 22:47:46.238550   \n",
       "\n",
       "  experiment_deployment_becoma_ready_date  \\\n",
       "0              2023-02-23 22:45:03.767663   \n",
       "1              2023-02-23 22:47:44.238467   \n",
       "\n",
       "  experiment_deployment_creation_started_date  \\\n",
       "0                  2023-02-23 22:45:00.708365   \n",
       "1                  2023-02-23 22:45:05.792333   \n",
       "\n",
       "  experiment_deployment_creation_finished_date  \\\n",
       "0                   2023-02-23 22:45:00.723892   \n",
       "1                   2023-02-23 22:45:05.805748   \n",
       "\n",
       "  experiment_deployment_deletion_started_date  \\\n",
       "0                  2023-02-23 22:45:05.767740   \n",
       "1                  2023-02-23 22:47:46.238545   \n",
       "\n",
       "  experiment_deployment_deletion_finished_date  replicas framework  \\\n",
       "0                   2023-02-23 22:45:05.767746       1.0   knative   \n",
       "1                   2023-02-23 22:47:46.238550     100.0   knative   \n",
       "\n",
       "   error_occured           exception  step  total_steps  cool_period  \\\n",
       "0          False  [None, None, None]   0.0          1.0          2.0   \n",
       "1          False  [None, None, None]   0.0          1.0          2.0   \n",
       "\n",
       "     driver                    command     creation_timedelta  \\\n",
       "0  minikube  [/bin/sh, -c, sleep 9999] 0 days 00:00:00.015527   \n",
       "1  minikube  [/bin/sh, -c, sleep 9999] 0 days 00:00:00.013415   \n",
       "\n",
       "      deletion_timedelta  \n",
       "0 0 days 00:00:00.000006  \n",
       "1 0 days 00:00:00.000005  "
      ]
     },
     "execution_count": 24,
     "metadata": {},
     "output_type": "execute_result"
    }
   ],
   "source": [
    "data_df = pd.read_feather(\"exps/20230223_224500.feather\")\n",
    "data_df[\"creation_timedelta\"] = data_df[\"experiment_deployment_creation_finished_date\"] - data_df[\"experiment_deployment_creation_started_date\"]\n",
    "data_df[\"deletion_timedelta\"] = data_df[\"experiment_deployment_deletion_finished_date\"] - data_df[\"experiment_deployment_deletion_started_date\"]\n",
    "data_df"
   ]
  },
  {
   "cell_type": "code",
   "execution_count": null,
   "metadata": {},
   "outputs": [],
   "source": []
  }
 ],
 "metadata": {
  "kernelspec": {
   "display_name": "Python 3",
   "language": "python",
   "name": "python3"
  },
  "language_info": {
   "codemirror_mode": {
    "name": "ipython",
    "version": 3
   },
   "file_extension": ".py",
   "mimetype": "text/x-python",
   "name": "python",
   "nbconvert_exporter": "python",
   "pygments_lexer": "ipython3",
   "version": "3.11.1"
  },
  "orig_nbformat": 4,
  "vscode": {
   "interpreter": {
    "hash": "e7370f93d1d0cde622a1f8e1c04877d8463912d04d973331ad4851f04de6915a"
   }
  }
 },
 "nbformat": 4,
 "nbformat_minor": 2
}
