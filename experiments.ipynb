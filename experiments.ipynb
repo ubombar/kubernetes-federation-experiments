{
 "cells": [
  {
   "cell_type": "code",
   "execution_count": null,
   "metadata": {},
   "outputs": [],
   "source": [
    "import numpy as np \n",
    "import matplotlib.pyplot as plt \n",
    "import seaborn as sns \n",
    "from number_of_experimetns import calculate_number_of_replicas\n",
    "from experimenter_knative import experiment_with\n",
    "sns.set_theme()"
   ]
  },
  {
   "cell_type": "code",
   "execution_count": null,
   "metadata": {},
   "outputs": [],
   "source": [
    "# Maximum number of replicas that the system can manage.\n",
    "MAX_REPLICA_COUNT = 10_000\n",
    "\n",
    "# Number of experiments\n",
    "NUMBER_OF_EXPERIMENTS = 9\n",
    "\n",
    "# Each experiment will be done by this many times for consistency.\n",
    "EXPERIMENT_PROOF = 7\n",
    "\n",
    "# Int array of replicas for each experiment\n",
    "REPLICAS: np.ndarray = calculate_number_of_replicas(MAX_REPLICA_COUNT, NUMBER_OF_EXPERIMENTS)\n",
    "\n",
    "# How much should we wait for the kubernetes api to be stabilized\n",
    "COOLDOWNS: np.ndarray = 10 * np.ones((NUMBER_OF_EXPERIMENTS,), dtype=int) + (REPLICAS * 0.004).astype(int)\n",
    "# Namespace of the experimentation\n",
    "NAMESPACE = \"experiments\""
   ]
  },
  {
   "cell_type": "code",
   "execution_count": null,
   "metadata": {},
   "outputs": [],
   "source": [
    "def draw_replicas(replicas=REPLICAS):\n",
    "    plt.figure(figsize=(8, 4))\n",
    "    plt.plot(range(len(replicas)), replicas)\n",
    "    plt.title(\"Replica Count by Experiments\")\n",
    "    plt.xlabel(\"Experiment\")\n",
    "    plt.ylabel(\"Replicas\")\n",
    "    plt.show()\n",
    "\n",
    "draw_replicas()\n",
    "print(COOLDOWNS)\n",
    "print(REPLICAS)"
   ]
  },
  {
   "cell_type": "code",
   "execution_count": null,
   "metadata": {},
   "outputs": [],
   "source": [
    "# Do the experiment\n",
    "experiment_with(REPLICAS.tolist(), NAMESPACE, COOLDOWNS.tolist(), EXPERIMENT_PROOF)"
   ]
  },
  {
   "cell_type": "code",
   "execution_count": null,
   "metadata": {},
   "outputs": [],
   "source": []
  }
 ],
 "metadata": {
  "kernelspec": {
   "display_name": "Python 3",
   "language": "python",
   "name": "python3"
  },
  "language_info": {
   "codemirror_mode": {
    "name": "ipython",
    "version": 3
   },
   "file_extension": ".py",
   "mimetype": "text/x-python",
   "name": "python",
   "nbconvert_exporter": "python",
   "pygments_lexer": "ipython3",
   "version": "3.11.1"
  },
  "orig_nbformat": 4,
  "vscode": {
   "interpreter": {
    "hash": "e7370f93d1d0cde622a1f8e1c04877d8463912d04d973331ad4851f04de6915a"
   }
  }
 },
 "nbformat": 4,
 "nbformat_minor": 2
}
