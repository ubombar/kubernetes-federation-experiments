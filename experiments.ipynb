{
 "cells": [
  {
   "cell_type": "code",
   "execution_count": 10,
   "metadata": {},
   "outputs": [],
   "source": [
    "import numpy as np \n",
    "import matplotlib.pyplot as plt \n",
    "import seaborn as sns \n",
    "import experimenter\n",
    "import pandas as pd \n",
    "import matplotlib.pyplot as plt \n",
    "\n",
    "sns.set_theme()"
   ]
  },
  {
   "cell_type": "code",
   "execution_count": 13,
   "metadata": {},
   "outputs": [],
   "source": [
    "# Maximum number of replicas that the system can manage.\n",
    "MAX_REPLICA_COUNT = 100\n",
    "\n",
    "# Number of experiments\n",
    "NUMBER_OF_EXPERIMENTS = 5\n",
    "\n",
    "# Each experiment will be done by this many times for consistency.\n",
    "EXPERIMENT_PROOF = 5\n",
    "\n",
    "# Int array of replicas for each experiment\n",
    "REPLICAS: np.ndarray = experimenter.calculate_number_of_replicas(MAX_REPLICA_COUNT, NUMBER_OF_EXPERIMENTS)\n",
    "\n",
    "# How much should we wait for the kubernetes api to be stabilized\n",
    "COOLDOWNS: np.ndarray = 2 * np.ones((NUMBER_OF_EXPERIMENTS,), dtype=int) + (REPLICAS * 0.004).astype(int)\n",
    "\n",
    "# Namespace of the experimentation\n",
    "NAMESPACE = \"experiments\"\n",
    "\n",
    "# Driver used in kubectl\n",
    "DRIVER = \"minikube\"\n",
    "\n",
    "# Framework\n",
    "FRAMEWORK = \"native\""
   ]
  },
  {
   "cell_type": "code",
   "execution_count": 12,
   "metadata": {},
   "outputs": [],
   "source": [
    "def draw_replicas(replicas=REPLICAS):\n",
    "    plt.figure(figsize=(8, 4))\n",
    "    plt.plot(range(len(replicas)), replicas)\n",
    "    plt.title(\"Replica Count by Experiments\")\n",
    "    plt.xlabel(\"Experiment\")\n",
    "    plt.ylabel(\"Replicas\")\n",
    "    plt.show()\n",
    "\n",
    "# draw_replicas()\n",
    "# print(COOLDOWNS)\n",
    "# print(REPLICAS)"
   ]
  },
  {
   "cell_type": "code",
   "execution_count": 14,
   "metadata": {},
   "outputs": [
    {
     "name": "stdout",
     "output_type": "stream",
     "text": [
      "Estimated time 2 second(s) will be saved in './exps/20230228_004310.feather'.\n",
      "Experiment of 1 step(s) with 1 replica(s) in 'native' and 'busybox' image in namespace 'experiments'. Estimated time for the experiment: 1 second(s)\n",
      "Experiment of 1 step(s) with 1 replica(s) in 'native' and 'busybox' image in namespace 'experiments'. Estimated time for the experiment: 1 second(s)\n",
      "Done!\n"
     ]
    }
   ],
   "source": [
    "# Do the experiment\n",
    "# experiment_with(REPLICAS.tolist(), NAMESPACE, COOLDOWNS.tolist(), EXPERIMENT_PROOF, DRIVER)\n",
    "\n",
    "experimenter.experiment_with(FRAMEWORK, DRIVER, 1, [1, 1], [1, 1])"
   ]
  },
  {
   "cell_type": "code",
   "execution_count": 9,
   "metadata": {},
   "outputs": [
    {
     "data": {
      "text/html": [
       "<div>\n",
       "<style scoped>\n",
       "    .dataframe tbody tr th:only-of-type {\n",
       "        vertical-align: middle;\n",
       "    }\n",
       "\n",
       "    .dataframe tbody tr th {\n",
       "        vertical-align: top;\n",
       "    }\n",
       "\n",
       "    .dataframe thead th {\n",
       "        text-align: right;\n",
       "    }\n",
       "</style>\n",
       "<table border=\"1\" class=\"dataframe\">\n",
       "  <thead>\n",
       "    <tr style=\"text-align: right;\">\n",
       "      <th></th>\n",
       "      <th>before_create_timestamp</th>\n",
       "      <th>before_firstwait_timestamp</th>\n",
       "      <th>before_delete_timestamp</th>\n",
       "      <th>before_secondwait_timestamp</th>\n",
       "      <th>before_cooldown_timestamp</th>\n",
       "      <th>before_join_timestamp</th>\n",
       "      <th>replicas</th>\n",
       "      <th>framework</th>\n",
       "      <th>error_occured</th>\n",
       "      <th>errors_rised</th>\n",
       "      <th>...</th>\n",
       "      <th>total_steps</th>\n",
       "      <th>cool_period</th>\n",
       "      <th>driver</th>\n",
       "      <th>command</th>\n",
       "      <th>event_created_at</th>\n",
       "      <th>event_deleted_at</th>\n",
       "      <th>event_modified_at</th>\n",
       "      <th>event_replicas_at</th>\n",
       "      <th>api_server_creation_delta</th>\n",
       "      <th>api_server_deletion_delta</th>\n",
       "    </tr>\n",
       "  </thead>\n",
       "  <tbody>\n",
       "    <tr>\n",
       "      <th>0</th>\n",
       "      <td>2023-02-27 23:29:52.732550</td>\n",
       "      <td>2023-02-27 23:29:52.773953</td>\n",
       "      <td>2023-02-27 23:29:55.977492</td>\n",
       "      <td>2023-02-27 23:29:56.005130</td>\n",
       "      <td>2023-02-27 23:29:56.005134</td>\n",
       "      <td>2023-02-27 23:29:58.005220</td>\n",
       "      <td>1</td>\n",
       "      <td>knative</td>\n",
       "      <td>False</td>\n",
       "      <td>[None, None, None]</td>\n",
       "      <td>...</td>\n",
       "      <td>1</td>\n",
       "      <td>2</td>\n",
       "      <td>minikube</td>\n",
       "      <td>[/bin/sh, -c, sleep 9999]</td>\n",
       "      <td>2023-02-27 23:29:52.770429</td>\n",
       "      <td>2023-02-27 23:29:56.003805</td>\n",
       "      <td>[2023-02-27 23:29:52.801613, 2023-02-27 23:29:...</td>\n",
       "      <td>[nan, nan, nan, 1.0]</td>\n",
       "      <td>0 days 00:00:00.037879</td>\n",
       "      <td>0 days 00:00:00.026313</td>\n",
       "    </tr>\n",
       "    <tr>\n",
       "      <th>1</th>\n",
       "      <td>2023-02-27 23:29:58.534350</td>\n",
       "      <td>2023-02-27 23:29:58.584932</td>\n",
       "      <td>2023-02-27 23:30:02.131228</td>\n",
       "      <td>2023-02-27 23:30:02.149399</td>\n",
       "      <td>2023-02-27 23:30:02.149401</td>\n",
       "      <td>2023-02-27 23:30:04.149493</td>\n",
       "      <td>1</td>\n",
       "      <td>knative</td>\n",
       "      <td>False</td>\n",
       "      <td>[None, None, None]</td>\n",
       "      <td>...</td>\n",
       "      <td>1</td>\n",
       "      <td>2</td>\n",
       "      <td>minikube</td>\n",
       "      <td>[/bin/sh, -c, sleep 9999]</td>\n",
       "      <td>2023-02-27 23:29:58.577167</td>\n",
       "      <td>2023-02-27 23:30:02.149220</td>\n",
       "      <td>[2023-02-27 23:29:58.605398, 2023-02-27 23:29:...</td>\n",
       "      <td>[nan, nan, nan, 1.0]</td>\n",
       "      <td>0 days 00:00:00.042817</td>\n",
       "      <td>0 days 00:00:00.017992</td>\n",
       "    </tr>\n",
       "  </tbody>\n",
       "</table>\n",
       "<p>2 rows × 21 columns</p>\n",
       "</div>"
      ],
      "text/plain": [
       "     before_create_timestamp before_firstwait_timestamp  \\\n",
       "0 2023-02-27 23:29:52.732550 2023-02-27 23:29:52.773953   \n",
       "1 2023-02-27 23:29:58.534350 2023-02-27 23:29:58.584932   \n",
       "\n",
       "     before_delete_timestamp before_secondwait_timestamp  \\\n",
       "0 2023-02-27 23:29:55.977492  2023-02-27 23:29:56.005130   \n",
       "1 2023-02-27 23:30:02.131228  2023-02-27 23:30:02.149399   \n",
       "\n",
       "   before_cooldown_timestamp      before_join_timestamp  replicas framework  \\\n",
       "0 2023-02-27 23:29:56.005134 2023-02-27 23:29:58.005220         1   knative   \n",
       "1 2023-02-27 23:30:02.149401 2023-02-27 23:30:04.149493         1   knative   \n",
       "\n",
       "   error_occured        errors_rised  ...  total_steps  cool_period    driver  \\\n",
       "0          False  [None, None, None]  ...            1            2  minikube   \n",
       "1          False  [None, None, None]  ...            1            2  minikube   \n",
       "\n",
       "                     command           event_created_at  \\\n",
       "0  [/bin/sh, -c, sleep 9999] 2023-02-27 23:29:52.770429   \n",
       "1  [/bin/sh, -c, sleep 9999] 2023-02-27 23:29:58.577167   \n",
       "\n",
       "            event_deleted_at  \\\n",
       "0 2023-02-27 23:29:56.003805   \n",
       "1 2023-02-27 23:30:02.149220   \n",
       "\n",
       "                                   event_modified_at     event_replicas_at  \\\n",
       "0  [2023-02-27 23:29:52.801613, 2023-02-27 23:29:...  [nan, nan, nan, 1.0]   \n",
       "1  [2023-02-27 23:29:58.605398, 2023-02-27 23:29:...  [nan, nan, nan, 1.0]   \n",
       "\n",
       "  api_server_creation_delta api_server_deletion_delta  \n",
       "0    0 days 00:00:00.037879    0 days 00:00:00.026313  \n",
       "1    0 days 00:00:00.042817    0 days 00:00:00.017992  \n",
       "\n",
       "[2 rows x 21 columns]"
      ]
     },
     "execution_count": 9,
     "metadata": {},
     "output_type": "execute_result"
    }
   ],
   "source": [
    "KNATIVE_EXPERIMENT_NAME = \"exps/20230227_232952.feather\"\n",
    "\n",
    "def process_experiment(filename):\n",
    "    data_df = pd.read_feather(filename)\n",
    "\n",
    "    data_df[\"api_server_creation_delta\"] = data_df[\"event_created_at\"] - data_df[\"before_create_timestamp\"]\n",
    "    data_df[\"api_server_deletion_delta\"] = data_df[\"event_deleted_at\"] - data_df[\"before_delete_timestamp\"]\n",
    "    \n",
    "    data_df.to_feather(filename)\n",
    "    return data_df\n",
    "\n",
    "knative_minikube_df = process_experiment(KNATIVE_EXPERIMENT_NAME)\n",
    "knative_minikube_df"
   ]
  },
  {
   "cell_type": "code",
   "execution_count": null,
   "metadata": {},
   "outputs": [],
   "source": [
    "# BETTER PROCESS THIS DATA\n",
    "plt.figure(figsize=(20, 4))\n",
    "plt.subplot(1, 2, 1)\n",
    "plt.plot(knative_minikube_df[\"api_server_deletion_delta\"]); plt.title(\"Creation Times\")\n",
    "plt.subplot(1, 2, 2)\n",
    "plt.plot(knative_minikube_df[\"api_server_creation_delta\"]); plt.title(\"Deletion Times\")\n",
    "plt.show()"
   ]
  },
  {
   "cell_type": "code",
   "execution_count": null,
   "metadata": {},
   "outputs": [],
   "source": []
  },
  {
   "cell_type": "code",
   "execution_count": null,
   "metadata": {},
   "outputs": [],
   "source": []
  }
 ],
 "metadata": {
  "kernelspec": {
   "display_name": "Python 3",
   "language": "python",
   "name": "python3"
  },
  "language_info": {
   "codemirror_mode": {
    "name": "ipython",
    "version": 3
   },
   "file_extension": ".py",
   "mimetype": "text/x-python",
   "name": "python",
   "nbconvert_exporter": "python",
   "pygments_lexer": "ipython3",
   "version": "3.11.1"
  },
  "orig_nbformat": 4,
  "vscode": {
   "interpreter": {
    "hash": "e7370f93d1d0cde622a1f8e1c04877d8463912d04d973331ad4851f04de6915a"
   }
  }
 },
 "nbformat": 4,
 "nbformat_minor": 2
}
