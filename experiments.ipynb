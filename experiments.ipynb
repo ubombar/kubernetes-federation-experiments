{
 "cells": [
  {
   "cell_type": "code",
   "execution_count": 1,
   "metadata": {},
   "outputs": [],
   "source": [
    "import numpy as np \n",
    "import matplotlib.pyplot as plt \n",
    "import seaborn as sns \n",
    "import experimenter\n",
    "import pandas as pd \n",
    "import matplotlib.pyplot as plt \n",
    "\n",
    "sns.set_theme()"
   ]
  },
  {
   "cell_type": "code",
   "execution_count": 2,
   "metadata": {},
   "outputs": [],
   "source": [
    "# Maximum number of replicas that the system can manage.\n",
    "MAX_REPLICA_COUNT = 100\n",
    "\n",
    "# Number of experiments\n",
    "NUMBER_OF_EXPERIMENTS = 5\n",
    "\n",
    "# Each experiment will be done by this many times for consistency.\n",
    "EXPERIMENT_PROOF = 5 # REPITITION\n",
    "\n",
    "# Int array of replicas for each experiment\n",
    "REPLICAS: np.ndarray = experimenter.calculate_number_of_replicas(MAX_REPLICA_COUNT, NUMBER_OF_EXPERIMENTS)\n",
    "\n",
    "# How much should we wait for the kubernetes api to be stabilized\n",
    "COOLDOWNS: np.ndarray = 2 * np.ones((NUMBER_OF_EXPERIMENTS,), dtype=int) + (REPLICAS * 0.004).astype(int) # Make it ~3 mins\n",
    "\n",
    "# Namespace of the experimentation\n",
    "NAMESPACE = \"experiments\"\n",
    "\n",
    "# Driver used in kubectl\n",
    "DRIVER = \"minikube\" # minikube, kwok, native\n",
    "\n",
    "# Framework\n",
    "FRAMEWORK = \"native\" # native, edgenet (Nisan ortasi) | liqo, kubefed (Sonradan)\n",
    "# EdgeNet scalability test, how many compute cluster can be tested..."
   ]
  },
  {
   "cell_type": "code",
   "execution_count": 3,
   "metadata": {},
   "outputs": [
    {
     "data": {
      "image/png": "[encoded data removed]",
      "text/plain": [
       "<Figure size 800x400 with 1 Axes>"
      ]
     },
     "metadata": {},
     "output_type": "display_data"
    },
    {
     "name": "stdout",
     "output_type": "stream",
     "text": [
      "[2 2 2 2 2]\n",
      "[  1   4  13  36 100]\n"
     ]
    }
   ],
   "source": [
    "def draw_replicas(replicas=REPLICAS):\n",
    "    plt.figure(figsize=(8, 4))\n",
    "    plt.plot(range(len(replicas)), replicas)\n",
    "    plt.title(\"Replica Count by Experiments\")\n",
    "    plt.xlabel(\"Experiment\")\n",
    "    plt.ylabel(\"Replicas\")\n",
    "    plt.show()\n",
    "\n",
    "draw_replicas()\n",
    "print(COOLDOWNS)\n",
    "print(REPLICAS)"
   ]
  },
  {
   "cell_type": "code",
   "execution_count": 4,
   "metadata": {},
   "outputs": [
    {
     "name": "stdout",
     "output_type": "stream",
     "text": [
      "Estimated time 2 second(s) will be saved in './exps/20230302_100230.feather'.\n",
      "Experiment of 1 step(s) with 1 replica(s) in 'native' and 'busybox' image in namespace 'experiments'. Estimated time for the experiment: 1 second(s)\n",
      "evet_type: ADDED\n",
      "evet_type: MODIFIED\n",
      "evet_type: MODIFIED\n",
      "evet_type: MODIFIED\n",
      "evet_type: MODIFIED\n",
      "evet_type: MODIFIED\n",
      "evet_type: MODIFIED\n",
      "evet_type: DELETED\n",
      "Experiment of 1 step(s) with 1 replica(s) in 'native' and 'busybox' image in namespace 'experiments'. Estimated time for the experiment: 1 second(s)\n",
      "evet_type: ADDED\n",
      "evet_type: MODIFIED\n",
      "evet_type: MODIFIED\n",
      "evet_type: MODIFIED\n",
      "evet_type: MODIFIED\n",
      "evet_type: MODIFIED\n",
      "evet_type: MODIFIED\n",
      "evet_type: DELETED\n",
      "Done!\n"
     ]
    }
   ],
   "source": [
    "# Do the experiment\n",
    "experimenter.experiment_with(FRAMEWORK, DRIVER, 1, [1, 1], [1, 1])\n",
    "# experimenter.experiment_with(FRAMEWORK, DRIVER, EXPERIMENT_PROOF, REPLICAS.tolist(), COOLDOWNS.tolist())"
   ]
  },
  {
   "cell_type": "code",
   "execution_count": 5,
   "metadata": {},
   "outputs": [
    {
     "data": {
      "text/html": [
       "<div>\n",
       "<style scoped>\n",
       "    .dataframe tbody tr th:only-of-type {\n",
       "        vertical-align: middle;\n",
       "    }\n",
       "\n",
       "    .dataframe tbody tr th {\n",
       "        vertical-align: top;\n",
       "    }\n",
       "\n",
       "    .dataframe thead th {\n",
       "        text-align: right;\n",
       "    }\n",
       "</style>\n",
       "<table border=\"1\" class=\"dataframe\">\n",
       "  <thead>\n",
       "    <tr style=\"text-align: right;\">\n",
       "      <th></th>\n",
       "      <th>before_create_timestamp</th>\n",
       "      <th>before_firstwait_timestamp</th>\n",
       "      <th>before_delete_timestamp</th>\n",
       "      <th>before_secondwait_timestamp</th>\n",
       "      <th>before_cooldown_timestamp</th>\n",
       "      <th>before_join_timestamp</th>\n",
       "      <th>replicas</th>\n",
       "      <th>framework</th>\n",
       "      <th>error_occured</th>\n",
       "      <th>errors_rised</th>\n",
       "      <th>...</th>\n",
       "      <th>event_modified_at</th>\n",
       "      <th>event_replicas_at</th>\n",
       "      <th>first_created_at</th>\n",
       "      <th>last_created_at</th>\n",
       "      <th>first_deleted_at</th>\n",
       "      <th>last_deleted_at</th>\n",
       "      <th>first_scheduled_at</th>\n",
       "      <th>last_scheduled_at</th>\n",
       "      <th>api_server_creation_delta</th>\n",
       "      <th>api_server_deletion_delta</th>\n",
       "    </tr>\n",
       "  </thead>\n",
       "  <tbody>\n",
       "    <tr>\n",
       "      <th>0</th>\n",
       "      <td>2023-03-02 10:02:31.345198</td>\n",
       "      <td>2023-03-02 10:02:31.384805</td>\n",
       "      <td>2023-03-02 10:02:34.788162</td>\n",
       "      <td>2023-03-02 10:02:34.841647</td>\n",
       "      <td>2023-03-02 10:02:34.841654</td>\n",
       "      <td>2023-03-02 10:02:35.841783</td>\n",
       "      <td>1</td>\n",
       "      <td>native</td>\n",
       "      <td>False</td>\n",
       "      <td>[None, None, None]</td>\n",
       "      <td>...</td>\n",
       "      <td>[2023-03-02 10:02:31.397870, 2023-03-02 10:02:...</td>\n",
       "      <td>[nan, nan, nan, 1.0]</td>\n",
       "      <td>2023-03-02 10:02:31.403064</td>\n",
       "      <td>2023-03-02 10:02:31.403064</td>\n",
       "      <td>2023-03-02 10:03:07.119025</td>\n",
       "      <td>2023-03-02 10:03:07.119025</td>\n",
       "      <td>2023-03-02 10:02:31.412985</td>\n",
       "      <td>2023-03-02 10:02:31.412985</td>\n",
       "      <td>0 days 00:00:00.034726</td>\n",
       "      <td>0 days 00:00:00.052983</td>\n",
       "    </tr>\n",
       "    <tr>\n",
       "      <th>1</th>\n",
       "      <td>2023-03-02 10:03:07.654480</td>\n",
       "      <td>2023-03-02 10:03:07.705006</td>\n",
       "      <td>2023-03-02 10:03:12.199414</td>\n",
       "      <td>2023-03-02 10:03:12.239713</td>\n",
       "      <td>2023-03-02 10:03:12.239720</td>\n",
       "      <td>2023-03-02 10:03:13.239815</td>\n",
       "      <td>1</td>\n",
       "      <td>native</td>\n",
       "      <td>False</td>\n",
       "      <td>[None, None, None]</td>\n",
       "      <td>...</td>\n",
       "      <td>[2023-03-02 10:03:07.721045, 2023-03-02 10:03:...</td>\n",
       "      <td>[nan, nan, nan, 1.0]</td>\n",
       "      <td>2023-03-02 10:03:07.726527</td>\n",
       "      <td>2023-03-02 10:03:07.726527</td>\n",
       "      <td>2023-03-02 10:03:44.537935</td>\n",
       "      <td>2023-03-02 10:03:44.537935</td>\n",
       "      <td>2023-03-02 10:03:07.747241</td>\n",
       "      <td>2023-03-02 10:03:07.747241</td>\n",
       "      <td>0 days 00:00:00.044877</td>\n",
       "      <td>0 days 00:00:00.039428</td>\n",
       "    </tr>\n",
       "  </tbody>\n",
       "</table>\n",
       "<p>2 rows × 27 columns</p>\n",
       "</div>"
      ],
      "text/plain": [
       "     before_create_timestamp before_firstwait_timestamp  \\\n",
       "0 2023-03-02 10:02:31.345198 2023-03-02 10:02:31.384805   \n",
       "1 2023-03-02 10:03:07.654480 2023-03-02 10:03:07.705006   \n",
       "\n",
       "     before_delete_timestamp before_secondwait_timestamp  \\\n",
       "0 2023-03-02 10:02:34.788162  2023-03-02 10:02:34.841647   \n",
       "1 2023-03-02 10:03:12.199414  2023-03-02 10:03:12.239713   \n",
       "\n",
       "   before_cooldown_timestamp      before_join_timestamp  replicas framework  \\\n",
       "0 2023-03-02 10:02:34.841654 2023-03-02 10:02:35.841783         1    native   \n",
       "1 2023-03-02 10:03:12.239720 2023-03-02 10:03:13.239815         1    native   \n",
       "\n",
       "   error_occured        errors_rised  ...  \\\n",
       "0          False  [None, None, None]  ...   \n",
       "1          False  [None, None, None]  ...   \n",
       "\n",
       "                                   event_modified_at     event_replicas_at  \\\n",
       "0  [2023-03-02 10:02:31.397870, 2023-03-02 10:02:...  [nan, nan, nan, 1.0]   \n",
       "1  [2023-03-02 10:03:07.721045, 2023-03-02 10:03:...  [nan, nan, nan, 1.0]   \n",
       "\n",
       "            first_created_at            last_created_at  \\\n",
       "0 2023-03-02 10:02:31.403064 2023-03-02 10:02:31.403064   \n",
       "1 2023-03-02 10:03:07.726527 2023-03-02 10:03:07.726527   \n",
       "\n",
       "            first_deleted_at            last_deleted_at  \\\n",
       "0 2023-03-02 10:03:07.119025 2023-03-02 10:03:07.119025   \n",
       "1 2023-03-02 10:03:44.537935 2023-03-02 10:03:44.537935   \n",
       "\n",
       "          first_scheduled_at          last_scheduled_at  \\\n",
       "0 2023-03-02 10:02:31.412985 2023-03-02 10:02:31.412985   \n",
       "1 2023-03-02 10:03:07.747241 2023-03-02 10:03:07.747241   \n",
       "\n",
       "  api_server_creation_delta api_server_deletion_delta  \n",
       "0    0 days 00:00:00.034726    0 days 00:00:00.052983  \n",
       "1    0 days 00:00:00.044877    0 days 00:00:00.039428  \n",
       "\n",
       "[2 rows x 27 columns]"
      ]
     },
     "execution_count": 5,
     "metadata": {},
     "output_type": "execute_result"
    }
   ],
   "source": [
    "KNATIVE_EXPERIMENT_NAME = \"exps/20230302_100230.feather\"\n",
    "\n",
    "def process_experiment(filename):\n",
    "    data_df = pd.read_feather(filename)\n",
    "\n",
    "    data_df[\"api_server_creation_delta\"] = data_df[\"event_created_at\"] - data_df[\"before_create_timestamp\"]\n",
    "    data_df[\"api_server_deletion_delta\"] = data_df[\"event_deleted_at\"] - data_df[\"before_delete_timestamp\"]\n",
    "    \n",
    "    data_df.to_feather(filename)\n",
    "    return data_df\n",
    "\n",
    "knative_minikube_df = process_experiment(KNATIVE_EXPERIMENT_NAME)\n",
    "knative_minikube_df"
   ]
  },
  {
   "cell_type": "code",
   "execution_count": null,
   "metadata": {},
   "outputs": [],
   "source": [
    "# knative_minikube_df.to_feather(\"./saved_experiments/native_minikube_20230228_011357.feather\")"
   ]
  },
  {
   "cell_type": "code",
   "execution_count": null,
   "metadata": {},
   "outputs": [],
   "source": [
    "# BETTER PROCESS THIS DATA\n",
    "plt.figure(figsize=(20, 4))\n",
    "plt.subplot(1, 2, 1)\n",
    "plt.plot(knative_minikube_df[\"api_server_deletion_delta\"]); plt.title(\"Creation Times\")\n",
    "plt.subplot(1, 2, 2)\n",
    "plt.plot(knative_minikube_df[\"api_server_creation_delta\"]); plt.title(\"Deletion Times\")\n",
    "plt.show()"
   ]
  },
  {
   "cell_type": "code",
   "execution_count": null,
   "metadata": {},
   "outputs": [],
   "source": []
  },
  {
   "cell_type": "code",
   "execution_count": null,
   "metadata": {},
   "outputs": [],
   "source": []
  }
 ],
 "metadata": {
  "kernelspec": {
   "display_name": "Python 3",
   "language": "python",
   "name": "python3"
  },
  "language_info": {
   "codemirror_mode": {
    "name": "ipython",
    "version": 3
   },
   "file_extension": ".py",
   "mimetype": "text/x-python",
   "name": "python",
   "nbconvert_exporter": "python",
   "pygments_lexer": "ipython3",
   "version": "3.11.1"
  },
  "orig_nbformat": 4,
  "vscode": {
   "interpreter": {
    "hash": "e7370f93d1d0cde622a1f8e1c04877d8463912d04d973331ad4851f04de6915a"
   }
  }
 },
 "nbformat": 4,
 "nbformat_minor": 2
}
