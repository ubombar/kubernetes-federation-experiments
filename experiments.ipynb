{
 "cells": [
  {
   "cell_type": "code",
   "execution_count": 1,
   "metadata": {},
   "outputs": [],
   "source": [
    "import numpy as np \n",
    "import matplotlib.pyplot as plt \n",
    "import seaborn as sns \n",
    "import experimenter\n",
    "import pandas as pd \n",
    "import matplotlib.pyplot as plt \n",
    "\n",
    "sns.set_theme()"
   ]
  },
  {
   "cell_type": "code",
   "execution_count": null,
   "metadata": {},
   "outputs": [],
   "source": [
    "# Maximum number of replicas that the system can manage.\n",
    "MAX_REPLICA_COUNT = 100\n",
    "\n",
    "# Number of experiments\n",
    "NUMBER_OF_EXPERIMENTS = 5\n",
    "\n",
    "# Each experiment will be done by this many times for consistency.\n",
    "EXPERIMENT_REPITITION = 5 \n",
    "\n",
    "# Int array of replicas for each experiment\n",
    "REPLICAS: np.ndarray = experimenter.calculate_number_of_replicas(MAX_REPLICA_COUNT, NUMBER_OF_EXPERIMENTS)\n",
    "\n",
    "# How much should we wait for the kubernetes api to be stabilized\n",
    "COOLDOWNS: np.ndarray = 2 * np.ones((NUMBER_OF_EXPERIMENTS,), dtype=int) + (REPLICAS * 0.004).astype(int) # Make it ~3 mins\n",
    "\n",
    "# Namespace of the experimentation\n",
    "NAMESPACE = \"experiments\"\n",
    "\n",
    "# Driver used in kubectl\n",
    "DRIVER = \"minikube\" # minikube, kwok, native\n",
    "\n",
    "# Framework\n",
    "FRAMEWORK = \"native\" # native, edgenet (Nisan ortasi) | liqo, kubefed (Sonradan)\n",
    "# EdgeNet scalability test, how many compute cluster can be tested..."
   ]
  },
  {
   "cell_type": "code",
   "execution_count": null,
   "metadata": {},
   "outputs": [],
   "source": [
    "def draw_replicas(replicas=REPLICAS):\n",
    "    plt.figure(figsize=(8, 4))\n",
    "    plt.plot(range(len(replicas)), replicas)\n",
    "    plt.title(\"Replica Count by Experiments\")\n",
    "    plt.xlabel(\"Experiment\")\n",
    "    plt.ylabel(\"Replicas\")\n",
    "    plt.show()\n",
    "\n",
    "draw_replicas()\n",
    "print(COOLDOWNS)\n",
    "print(REPLICAS)"
   ]
  },
  {
   "cell_type": "code",
   "execution_count": 4,
   "metadata": {},
   "outputs": [],
   "source": [
    "# Do the experiment\n",
    "# experimenter.experiment_with(FRAMEWORK, DRIVER, 1, [1, 1], [1, 1])\n",
    "# experimenter.experiment_with(FRAMEWORK, DRIVER, EXPERIMENT_REPITITION, REPLICAS.tolist(), COOLDOWNS.tolist())"
   ]
  },
  {
   "cell_type": "code",
   "execution_count": 7,
   "metadata": {},
   "outputs": [
    {
     "data": {
      "text/plain": [
       "Index(['before_create_timestamp', 'before_firstwait_timestamp',\n",
       "       'before_delete_timestamp', 'before_secondwait_timestamp',\n",
       "       'before_cooldown_timestamp', 'before_join_timestamp', 'replicas',\n",
       "       'framework', 'error_occured', 'errors_rised', 'step', 'total_steps',\n",
       "       'cool_period', 'driver', 'command', 'event_created_at',\n",
       "       'event_deleted_at', 'event_modified_at', 'event_replicas_at',\n",
       "       'first_created_at', 'last_created_at', 'first_deleted_at',\n",
       "       'last_deleted_at', 'first_scheduled_at', 'last_scheduled_at',\n",
       "       'api_server_creation_delta', 'api_server_deletion_delta'],\n",
       "      dtype='object')"
      ]
     },
     "execution_count": 7,
     "metadata": {},
     "output_type": "execute_result"
    }
   ],
   "source": [
    "KNATIVE_EXPERIMENT_NAME = \"exps/20230310_054850.feather\"\n",
    "\n",
    "def process_experiment(filename):\n",
    "    data_df = pd.read_feather(filename)\n",
    "\n",
    "    data_df[\"api_server_creation_delta\"] = data_df[\"event_created_at\"] - data_df[\"before_create_timestamp\"]\n",
    "    data_df[\"api_server_deletion_delta\"] = data_df[\"event_deleted_at\"] - data_df[\"before_delete_timestamp\"]\n",
    "\n",
    "    # ADD OTHER TIME DELTA CALCULATIONS HERE\n",
    "    \n",
    "    data_df.to_feather(filename)\n",
    "    return data_df\n",
    "\n",
    "knative_minikube_df = process_experiment(KNATIVE_EXPERIMENT_NAME)\n",
    "# knative_minikube_df.columns\n",
    "knative_minikube_df.columns"
   ]
  },
  {
   "cell_type": "code",
   "execution_count": 8,
   "metadata": {},
   "outputs": [
    {
     "data": {
      "text/plain": [
       "0   2023-03-10 05:48:51.539694\n",
       "Name: first_created_at, dtype: datetime64[ns]"
      ]
     },
     "execution_count": 8,
     "metadata": {},
     "output_type": "execute_result"
    }
   ],
   "source": [
    "knative_minikube_df.first_created_at"
   ]
  },
  {
   "cell_type": "code",
   "execution_count": null,
   "metadata": {},
   "outputs": [],
   "source": [
    "# knative_minikube_df.to_feather(\"./saved_experiments/native_minikube_20230228_011357.feather\")"
   ]
  },
  {
   "cell_type": "code",
   "execution_count": null,
   "metadata": {},
   "outputs": [],
   "source": [
    "# BETTER PROCESS THIS DATA\n",
    "plt.figure(figsize=(20, 4))\n",
    "plt.subplot(1, 2, 1)\n",
    "plt.plot(knative_minikube_df[\"api_server_deletion_delta\"]); plt.title(\"Creation Times\")\n",
    "plt.subplot(1, 2, 2)\n",
    "plt.plot(knative_minikube_df[\"api_server_creation_delta\"]); plt.title(\"Deletion Times\")\n",
    "plt.show()"
   ]
  },
  {
   "cell_type": "code",
   "execution_count": null,
   "metadata": {},
   "outputs": [],
   "source": []
  },
  {
   "cell_type": "code",
   "execution_count": null,
   "metadata": {},
   "outputs": [],
   "source": []
  }
 ],
 "metadata": {
  "kernelspec": {
   "display_name": "Python 3",
   "language": "python",
   "name": "python3"
  },
  "language_info": {
   "codemirror_mode": {
    "name": "ipython",
    "version": 3
   },
   "file_extension": ".py",
   "mimetype": "text/x-python",
   "name": "python",
   "nbconvert_exporter": "python",
   "pygments_lexer": "ipython3",
   "version": "3.10.10"
  },
  "orig_nbformat": 4,
  "vscode": {
   "interpreter": {
    "hash": "e7370f93d1d0cde622a1f8e1c04877d8463912d04d973331ad4851f04de6915a"
   }
  }
 },
 "nbformat": 4,
 "nbformat_minor": 2
}
