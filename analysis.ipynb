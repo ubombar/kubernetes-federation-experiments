{
 "cells": [
  {
   "cell_type": "code",
   "execution_count": 1,
   "metadata": {},
   "outputs": [],
   "source": [
    "import json\n",
    "import datetime\n",
    "import pandas as pd\n",
    "import collections"
   ]
  },
  {
   "cell_type": "code",
   "execution_count": 2,
   "metadata": {},
   "outputs": [],
   "source": [
    "def strp(date_string):\n",
    "    return datetime.datetime.strptime(date_string, '%Y-%m-%d %H:%M:%S.%f') \n",
    "\n",
    "def get_type(events, type):\n",
    "    for e in events:\n",
    "        type_object = e[\"type\"]\n",
    "        if type == type_object: return e"
   ]
  },
  {
   "cell_type": "code",
   "execution_count": 23,
   "metadata": {},
   "outputs": [],
   "source": [
    "test = None\n",
    "\n",
    "def single_deployment_analysis(filename):\n",
    "    with open(filename, \"r\") as f:\n",
    "        experiments = json.load(f)\n",
    "    \n",
    "    assert experiments[0][\"single_deployment\"]\n",
    "\n",
    "    rows = []\n",
    "    for e in experiments:\n",
    "        data = e[\"data\"]\n",
    "\n",
    "        worker1_sd_creation = strp(get_type(data[\"selectivedeployment_events_worker1\"], \"created\")[\"time\"])\n",
    "\n",
    "        worker2_sd_creation = strp(get_type(data[\"selectivedeployment_events_worker2\"], \"created\")[\"time\"])\n",
    "        worker2_d_creation = strp(get_type(data[\"deployment_events\"], \"created\")[\"time\"])\n",
    "        # worker2_ns_creation = strp(get_type(data[\"\"], \"created\")[\"time\"])\n",
    "\n",
    "        test = data\n",
    "\n",
    "        row = {**e}\n",
    "        row.pop(\"data\")\n",
    "\n",
    "        # Here all the difference is are taken \n",
    "        row[\"worker2_sd_creation\"] = (worker2_sd_creation - worker1_sd_creation).total_seconds()\n",
    "        row[\"worker2_d_creation\"] = (worker2_d_creation - worker1_sd_creation).total_seconds()\n",
    "\n",
    "        rows.append(row)\n",
    "    \n",
    "    return pd.DataFrame(rows)"
   ]
  },
  {
   "cell_type": "code",
   "execution_count": 24,
   "metadata": {},
   "outputs": [
    {
     "data": {
      "text/plain": [
       "{'framework': 'edgenetfed',\n",
       " 'iteration': 0,\n",
       " 'num_iterations': 50,\n",
       " 'pod_count': 1,\n",
       " 'namespace': '71959dc7-5064-4ad1-b72a-a0cbe6a7df5c-test-34390dac',\n",
       " 'federation_namespace': 'federated-15a381a9-c1cf-43a7-ae83-d6dac62e98d2',\n",
       " 'single_deployment': True,\n",
       " 'worker2_sd_creation': 1.916518,\n",
       " 'worker2_d_creation': 1.996649}"
      ]
     },
     "execution_count": 24,
     "metadata": {},
     "output_type": "execute_result"
    }
   ],
   "source": [
    "single_deployment_df = single_deployment_analysis(\"jsons/old/20230330_123916.json\")\n",
    "single_deployment_df"
   ]
  },
  {
   "cell_type": "code",
   "execution_count": 11,
   "metadata": {},
   "outputs": [
    {
     "data": {
      "text/plain": [
       "{3}"
      ]
     },
     "execution_count": 11,
     "metadata": {},
     "output_type": "execute_result"
    }
   ],
   "source": [
    "set(single_deployment_df.test)"
   ]
  },
  {
   "cell_type": "code",
   "execution_count": 5,
   "metadata": {},
   "outputs": [
    {
     "name": "stdout",
     "output_type": "stream",
     "text": [
      "Replica count - Average Time for SD to Propagate from worker1 to worker2\n",
      "1 \t 1.26511636s\n",
      "5 \t 1.35168084s\n",
      "20 \t 1.5385327599999998s\n"
     ]
    },
    {
     "data": {
      "text/html": [
       "<div>\n",
       "<style scoped>\n",
       "    .dataframe tbody tr th:only-of-type {\n",
       "        vertical-align: middle;\n",
       "    }\n",
       "\n",
       "    .dataframe tbody tr th {\n",
       "        vertical-align: top;\n",
       "    }\n",
       "\n",
       "    .dataframe thead th {\n",
       "        text-align: right;\n",
       "    }\n",
       "</style>\n",
       "<table border=\"1\" class=\"dataframe\">\n",
       "  <thead>\n",
       "    <tr style=\"text-align: right;\">\n",
       "      <th></th>\n",
       "      <th>count</th>\n",
       "      <th>mean</th>\n",
       "      <th>std</th>\n",
       "      <th>min</th>\n",
       "      <th>25%</th>\n",
       "      <th>50%</th>\n",
       "      <th>75%</th>\n",
       "      <th>max</th>\n",
       "    </tr>\n",
       "    <tr>\n",
       "      <th>pod_count</th>\n",
       "      <th></th>\n",
       "      <th></th>\n",
       "      <th></th>\n",
       "      <th></th>\n",
       "      <th></th>\n",
       "      <th></th>\n",
       "      <th></th>\n",
       "      <th></th>\n",
       "    </tr>\n",
       "  </thead>\n",
       "  <tbody>\n",
       "    <tr>\n",
       "      <th>1</th>\n",
       "      <td>50.0</td>\n",
       "      <td>1.265116</td>\n",
       "      <td>0.343696</td>\n",
       "      <td>0.918914</td>\n",
       "      <td>1.065272</td>\n",
       "      <td>1.154291</td>\n",
       "      <td>1.318777</td>\n",
       "      <td>2.637117</td>\n",
       "    </tr>\n",
       "    <tr>\n",
       "      <th>5</th>\n",
       "      <td>50.0</td>\n",
       "      <td>1.351681</td>\n",
       "      <td>0.396793</td>\n",
       "      <td>1.007944</td>\n",
       "      <td>1.151960</td>\n",
       "      <td>1.235372</td>\n",
       "      <td>1.359362</td>\n",
       "      <td>2.936704</td>\n",
       "    </tr>\n",
       "    <tr>\n",
       "      <th>20</th>\n",
       "      <td>50.0</td>\n",
       "      <td>1.538533</td>\n",
       "      <td>0.684650</td>\n",
       "      <td>1.098807</td>\n",
       "      <td>1.225821</td>\n",
       "      <td>1.338717</td>\n",
       "      <td>1.604498</td>\n",
       "      <td>5.192611</td>\n",
       "    </tr>\n",
       "  </tbody>\n",
       "</table>\n",
       "</div>"
      ],
      "text/plain": [
       "           count      mean       std       min       25%       50%       75%  \\\n",
       "pod_count                                                                      \n",
       "1           50.0  1.265116  0.343696  0.918914  1.065272  1.154291  1.318777   \n",
       "5           50.0  1.351681  0.396793  1.007944  1.151960  1.235372  1.359362   \n",
       "20          50.0  1.538533  0.684650  1.098807  1.225821  1.338717  1.604498   \n",
       "\n",
       "                max  \n",
       "pod_count            \n",
       "1          2.637117  \n",
       "5          2.936704  \n",
       "20         5.192611  "
      ]
     },
     "execution_count": 5,
     "metadata": {},
     "output_type": "execute_result"
    }
   ],
   "source": [
    "print(\"Replica count - Average Time for SD to Propagate from worker1 to worker2\")\n",
    "e = single_deployment_df.groupby(\"pod_count\").selectivedeployment_from_worker1_to_worker2_selectivedeployment.mean()\n",
    "\n",
    "for replicas, average_seconds in zip(e.index, e):\n",
    "    print(f\"{replicas} \\t {average_seconds}s\")\n",
    "\n",
    "single_deployment_df.groupby(\"pod_count\").selectivedeployment_from_worker1_to_worker2_selectivedeployment.describe()"
   ]
  },
  {
   "cell_type": "code",
   "execution_count": null,
   "metadata": {},
   "outputs": [],
   "source": []
  },
  {
   "cell_type": "code",
   "execution_count": 110,
   "metadata": {},
   "outputs": [],
   "source": [
    "def multi_deployment_analysis(filename):\n",
    "    with open(filename, \"r\") as f:\n",
    "        experiments = json.load(f)\n",
    "\n",
    "    assert not experiments[0][\"single_deployment\"]\n",
    "\n",
    "    rows = []\n",
    "    for e in experiments:\n",
    "        data = e[\"data\"]\n",
    "\n",
    "        rowdata = collections.defaultdict(list)\n",
    "\n",
    "        for name_work1, name_work2 in zip(data[\"selectivedeployment_events_worker1\"], data[\"selectivedeployment_events_worker2\"]):\n",
    "            sd_worker1 = strp(get_type(data[\"selectivedeployment_events_worker1\"][name_work1], \"created\")[\"time\"])\n",
    "            sd_worker2 = strp(get_type(data[\"selectivedeployment_events_worker2\"][name_work2], \"created\")[\"time\"])\n",
    "            rowdata[\"selectivedeployment_from_worker1_to_worker2_selectivedeployment\"].append((sd_worker2 - sd_worker1).total_seconds())\n",
    "\n",
    "        rowdata_df = pd.DataFrame(rowdata)\n",
    "\n",
    "        row = {**e}\n",
    "        row.pop(\"data\")\n",
    "\n",
    "        row[\"selectivedeployment_from_worker1_to_worker2_selectivedeployment_mean\"] = rowdata_df.selectivedeployment_from_worker1_to_worker2_selectivedeployment.mean()\n",
    "\n",
    "        rows.append(row)\n",
    "        # break\n",
    "    \n",
    "    return pd.DataFrame(rows)"
   ]
  },
  {
   "cell_type": "code",
   "execution_count": null,
   "metadata": {},
   "outputs": [],
   "source": [
    "multi_deployment_df = multi_deployment_analysis(\"jsons/old/20230330_091022.json\")"
   ]
  },
  {
   "cell_type": "code",
   "execution_count": 111,
   "metadata": {},
   "outputs": [
    {
     "name": "stdout",
     "output_type": "stream",
     "text": [
      "Replica count - Average Time for SD to Propagate from worker1 to worker2\n",
      "1 \t 1.25069492s\n",
      "5 \t 7.93875358s\n",
      "20 \t 28.675273403000002s\n"
     ]
    },
    {
     "data": {
      "text/html": [
       "<div>\n",
       "<style scoped>\n",
       "    .dataframe tbody tr th:only-of-type {\n",
       "        vertical-align: middle;\n",
       "    }\n",
       "\n",
       "    .dataframe tbody tr th {\n",
       "        vertical-align: top;\n",
       "    }\n",
       "\n",
       "    .dataframe thead th {\n",
       "        text-align: right;\n",
       "    }\n",
       "</style>\n",
       "<table border=\"1\" class=\"dataframe\">\n",
       "  <thead>\n",
       "    <tr style=\"text-align: right;\">\n",
       "      <th></th>\n",
       "      <th>count</th>\n",
       "      <th>mean</th>\n",
       "      <th>std</th>\n",
       "      <th>min</th>\n",
       "      <th>25%</th>\n",
       "      <th>50%</th>\n",
       "      <th>75%</th>\n",
       "      <th>max</th>\n",
       "    </tr>\n",
       "    <tr>\n",
       "      <th>pod_count</th>\n",
       "      <th></th>\n",
       "      <th></th>\n",
       "      <th></th>\n",
       "      <th></th>\n",
       "      <th></th>\n",
       "      <th></th>\n",
       "      <th></th>\n",
       "      <th></th>\n",
       "    </tr>\n",
       "  </thead>\n",
       "  <tbody>\n",
       "    <tr>\n",
       "      <th>1</th>\n",
       "      <td>50.0</td>\n",
       "      <td>1.250695</td>\n",
       "      <td>0.411839</td>\n",
       "      <td>0.883943</td>\n",
       "      <td>0.993069</td>\n",
       "      <td>1.127334</td>\n",
       "      <td>1.333370</td>\n",
       "      <td>2.925436</td>\n",
       "    </tr>\n",
       "    <tr>\n",
       "      <th>5</th>\n",
       "      <td>50.0</td>\n",
       "      <td>7.938754</td>\n",
       "      <td>0.373540</td>\n",
       "      <td>7.371280</td>\n",
       "      <td>7.667160</td>\n",
       "      <td>7.831500</td>\n",
       "      <td>8.196874</td>\n",
       "      <td>8.918340</td>\n",
       "    </tr>\n",
       "    <tr>\n",
       "      <th>20</th>\n",
       "      <td>50.0</td>\n",
       "      <td>28.675273</td>\n",
       "      <td>1.130860</td>\n",
       "      <td>27.275419</td>\n",
       "      <td>27.783888</td>\n",
       "      <td>28.556859</td>\n",
       "      <td>29.332506</td>\n",
       "      <td>33.495867</td>\n",
       "    </tr>\n",
       "  </tbody>\n",
       "</table>\n",
       "</div>"
      ],
      "text/plain": [
       "           count       mean       std        min        25%        50%  \\\n",
       "pod_count                                                                \n",
       "1           50.0   1.250695  0.411839   0.883943   0.993069   1.127334   \n",
       "5           50.0   7.938754  0.373540   7.371280   7.667160   7.831500   \n",
       "20          50.0  28.675273  1.130860  27.275419  27.783888  28.556859   \n",
       "\n",
       "                 75%        max  \n",
       "pod_count                        \n",
       "1           1.333370   2.925436  \n",
       "5           8.196874   8.918340  \n",
       "20         29.332506  33.495867  "
      ]
     },
     "execution_count": 111,
     "metadata": {},
     "output_type": "execute_result"
    }
   ],
   "source": [
    "print(\"Replica count - Average Time for SD to Propagate from worker1 to worker2\")\n",
    "e = multi_deployment_df.groupby(\"pod_count\").selectivedeployment_from_worker1_to_worker2_selectivedeployment_mean.mean()\n",
    "\n",
    "for replicas, average_seconds in zip(e.index, e):\n",
    "    print(f\"{replicas} \\t {average_seconds}s\")\n",
    "\n",
    "multi_deployment_df.groupby(\"pod_count\").selectivedeployment_from_worker1_to_worker2_selectivedeployment_mean.describe()"
   ]
  },
  {
   "cell_type": "code",
   "execution_count": null,
   "metadata": {},
   "outputs": [],
   "source": []
  }
 ],
 "metadata": {
  "kernelspec": {
   "display_name": "Python 3",
   "language": "python",
   "name": "python3"
  },
  "language_info": {
   "codemirror_mode": {
    "name": "ipython",
    "version": 3
   },
   "file_extension": ".py",
   "mimetype": "text/x-python",
   "name": "python",
   "nbconvert_exporter": "python",
   "pygments_lexer": "ipython3",
   "version": "3.10.10"
  },
  "orig_nbformat": 4
 },
 "nbformat": 4,
 "nbformat_minor": 2
}
